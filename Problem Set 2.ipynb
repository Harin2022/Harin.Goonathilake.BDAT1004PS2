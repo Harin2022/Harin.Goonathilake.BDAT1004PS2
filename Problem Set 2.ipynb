{
 "cells": [
  {
   "cell_type": "markdown",
   "id": "c39e4ca0",
   "metadata": {},
   "source": [
    "# Question 1"
   ]
  },
  {
   "cell_type": "markdown",
   "id": "a815a564",
   "metadata": {},
   "source": [
    "6\n",
    "first statement b() : a = 2\n",
    "second statement b() : a = 4\n",
    "third statement b() : a = 6"
   ]
  },
  {
   "cell_type": "markdown",
   "id": "fd1351b3",
   "metadata": {},
   "source": [
    "# Question 2"
   ]
  },
  {
   "cell_type": "code",
   "execution_count": 4,
   "id": "7c04ba59",
   "metadata": {},
   "outputs": [
    {
     "name": "stdout",
     "output_type": "stream",
     "text": [
      "File idterm.py not found\n"
     ]
    }
   ],
   "source": [
    "def file_length(file_name):\n",
    "    try:\n",
    "        file = open(file_name)\n",
    "        contents = file.read()\n",
    "        file.close()\n",
    "        print(len(contents))\n",
    "    except FileNotFoundError: \n",
    "        print('File ' + file_name + ' not found')\n",
    "        \n",
    "    \n",
    "file_length('idterm.py')"
   ]
  },
  {
   "cell_type": "markdown",
   "id": "20910aa7",
   "metadata": {},
   "source": [
    "# Question 3"
   ]
  },
  {
   "cell_type": "code",
   "execution_count": 26,
   "id": "b53af375",
   "metadata": {},
   "outputs": [
    {
     "name": "stdout",
     "output_type": "stream",
     "text": [
      "['doll', 'firetruck', 'kitten']\n"
     ]
    }
   ],
   "source": [
    "class Marsupial:\n",
    "\n",
    "    def __init__ (self):\n",
    "        self.mArray = []\n",
    "        \n",
    "    def put_in_pouch(self,item):\n",
    "        return self.mArray.append(item)\n",
    "    \n",
    "    def pouch_contents(self):\n",
    "        print(self.mArray)\n",
    "\n",
    "m = Marsupial()\n",
    "m.put_in_pouch('doll')\n",
    "m.put_in_pouch('firetruck')\n",
    "m.put_in_pouch('kitten')\n",
    "m.pouch_contents()"
   ]
  },
  {
   "cell_type": "code",
   "execution_count": 27,
   "id": "61286faa",
   "metadata": {},
   "outputs": [
    {
     "name": "stdout",
     "output_type": "stream",
     "text": [
      "I am a Kangaroo located at coordinates (0,0)\n",
      "['doll', 'firetruck', 'kitten']\n",
      "I am a Kangaroo located at coordinates (3,0)\n"
     ]
    }
   ],
   "source": [
    "class Kangaroo(Marsupial):\n",
    "    \n",
    "    def __init__(self,x,y):\n",
    "        self.mArray= []\n",
    "        self.x = x\n",
    "        self.y = y\n",
    "    \n",
    "    def jump (self,x,y):\n",
    "        self.x += x\n",
    "        self.y += y\n",
    "        \n",
    "    def __repr__(self):\n",
    "        return('I am a Kangaroo located at coordinates (' + self.x.__str__() + ',' + self.y.__str__()+ ')')\n",
    "\n",
    "        \n",
    "k = Kangaroo(0,0)\n",
    "print(k)\n",
    "k.put_in_pouch('doll')\n",
    "k.put_in_pouch('firetruck')\n",
    "k.put_in_pouch('kitten')\n",
    "k.pouch_contents()\n",
    "k.jump(1,0)\n",
    "k.jump(1,0)\n",
    "k.jump(1,0)\n",
    "print(k)"
   ]
  },
  {
   "cell_type": "markdown",
   "id": "67211e32",
   "metadata": {},
   "source": [
    "# Question 4"
   ]
  },
  {
   "cell_type": "code",
   "execution_count": 5,
   "id": "fd396a48",
   "metadata": {},
   "outputs": [
    {
     "name": "stdout",
     "output_type": "stream",
     "text": [
      "1\n",
      "10\n",
      "5\n",
      "16\n",
      "8\n",
      "4\n",
      "2\n",
      "1\n"
     ]
    }
   ],
   "source": [
    "def collatz(x):\n",
    "    if x == 1:\n",
    "        print(int(x))\n",
    "    elif x % 2 == 1:\n",
    "        print(int(x))\n",
    "        x = 3*x +1\n",
    "        collatz(x)\n",
    "    else:\n",
    "        print(int(x))\n",
    "        x = x / 2\n",
    "        collatz(x)\n",
    "        \n",
    "collatz(1)\n",
    "\n",
    "collatz(10)\n",
    "        "
   ]
  },
  {
   "cell_type": "markdown",
   "id": "207c9f90",
   "metadata": {},
   "source": [
    "# Question 5"
   ]
  },
  {
   "cell_type": "code",
   "execution_count": 9,
   "id": "8107a0d2",
   "metadata": {},
   "outputs": [
    {
     "name": "stdout",
     "output_type": "stream",
     "text": [
      "0\n",
      "1\n",
      "11\n",
      "1001\n"
     ]
    }
   ],
   "source": [
    "def binary(n):\n",
    "    if n == 0:\n",
    "        print(n)\n",
    "    elif n == 1:\n",
    "        print(n)\n",
    "    else:\n",
    "        print(n % 2, end='')\n",
    "        binary(int(n/2))\n",
    "    \n",
    "\n",
    "binary(0)\n",
    "binary(1)\n",
    "binary(3)\n",
    "binary(9)\n",
    "    "
   ]
  },
  {
   "cell_type": "markdown",
   "id": "e45199e4",
   "metadata": {},
   "source": [
    "# Question 6"
   ]
  },
  {
   "cell_type": "code",
   "execution_count": 103,
   "id": "14866dee",
   "metadata": {},
   "outputs": [
    {
     "name": "stdout",
     "output_type": "stream",
     "text": [
      "W3C Mission\n",
      "Principles\n"
     ]
    }
   ],
   "source": [
    "from html.parser import HTMLParser\n",
    "class HeadingParser(HTMLParser):\n",
    "    heading = False\n",
    "    def handle_starttag(self, tag, attrs):\n",
    "        'print value of href attribute if any'\n",
    "        if tag == 'h1' or tag == \"h2\":\n",
    "            self.heading = True\n",
    "        \n",
    "    def handle_data(self, data):\n",
    "        if self.heading == True:\n",
    "            print(data)\n",
    "            \n",
    "    def handle_endtag(self, tag):\n",
    "        if tag == 'h1' or tag == \"h2\":\n",
    "            self.heading = False\n",
    "                    \n",
    "infile = open('w3c.html') \n",
    "content = infile.read() \n",
    "infile.close() \n",
    "hp = HeadingParser() \n",
    "hp.feed(content) "
   ]
  },
  {
   "cell_type": "markdown",
   "id": "0a8e468d",
   "metadata": {},
   "source": [
    "# Question 7"
   ]
  },
  {
   "cell_type": "code",
   "execution_count": 134,
   "id": "b5c1f5e0",
   "metadata": {},
   "outputs": [
    {
     "name": "stdout",
     "output_type": "stream",
     "text": [
      "http://www.w3.org/Consortium/mission.html\n",
      "\thttp://www.w3.org/standards/\n",
      "\t\thttp://www.w3.org/\n",
      "\thttp://www.w3.org/\n",
      "\t\thttp://www.w3.org/\n",
      "\t"
     ]
    }
   ],
   "source": [
    "from urllib.request import urlopen\n",
    "from urllib.parse import urljoin\n",
    "from html.parser import HTMLParser\n",
    "class Collector(HTMLParser):\n",
    "    'collects hyperlink URLs into a list'\n",
    "\n",
    "    def __init__(self, url):\n",
    "        'initializes parser, the url, and a list'\n",
    "        HTMLParser.__init__(self)\n",
    "        self.url = url\n",
    "        self.links = []\n",
    "\n",
    "    \n",
    "    def handle_starttag(self, tag, attrs):\n",
    "        'collects hyperlink URLs in their absolute format'\n",
    "        if tag == 'a':\n",
    "            for attr in attrs:\n",
    "                if attr[0] == 'href':\n",
    "                    # construct absolute URL\n",
    "                    absolute = urljoin(self.url, attr[1])\n",
    "                    if absolute[:4] == 'http': # collect HTTP URLs\n",
    "                        self.links.append(absolute)\n",
    "                        \n",
    "    def getLinks(self, depth):\n",
    "        'returns hyperlinks URLs in their absolute format'\n",
    "        return(self.links[depth-1])\n",
    "\n",
    "    \n",
    "def webdir(url , depth, indent):\n",
    "    resource = urlopen(url)\n",
    "    content = resource.read().decode()\n",
    "    collector = Collector(url)\n",
    "    collector.feed(content)\n",
    "    #print(url, end='\\n\\t')\n",
    "    newUrl = ''\n",
    "    indents = ''\n",
    "    if depth > 1:\n",
    "        indents = '\\n'+'\\t'*(indent+1)\n",
    "        print(url, end=indents)\n",
    "        newUrl = collector.getLinks(depth)\n",
    "        webdir(newUrl,depth-1,indent+1)\n",
    "        newUrl = collector.getLinks(depth-1)\n",
    "        webdir(newUrl,depth-1,indent+1)\n",
    "    elif depth == 1:\n",
    "        indents = '\\n'+'\\t'*(indent+1)\n",
    "        print(url, end=indents)\n",
    "        newUrl = collector.getLinks(depth)\n",
    "        webdir(newUrl,depth-1,indent)\n",
    "    else:\n",
    "        indents = '\\n'+'\\t'*indent\n",
    "        print(url, end=indents)\n",
    "\n",
    "webdir('http://www.w3.org/Consortium/mission.html',2,0)"
   ]
  },
  {
   "cell_type": "markdown",
   "id": "86a1cd93",
   "metadata": {},
   "source": [
    "# Question 8"
   ]
  },
  {
   "cell_type": "code",
   "execution_count": null,
   "id": "6c6a60d9",
   "metadata": {},
   "outputs": [],
   "source": [
    "SELECT Temperature FROM Weather\n",
    "\n",
    "SELECT DISTINCT(City) FROM Weather\n",
    "\n",
    "SELECT * FROM Weather WHERE Country = 'India'\n",
    "\n",
    "SELECT * FROM Weather WHERE Season = 'Fall'\n",
    "\n",
    "SELECT City, Country, Season FROM Weather WHERE Rainfall BETWEEN 200 AND 400\n",
    "\n",
    "SELECT City, Country FROM Weather WHERE Season = 'Fall' AND Temperature > 20 ORDER BY Temperature\n",
    "\n",
    "SELECT SUM(Rainfall) FROM Weather WHERE City = 'Cairo'\n",
    "\n",
    "SELECT Season, SUM(Rainfall) FROM Weather GROUP BY Season"
   ]
  },
  {
   "cell_type": "markdown",
   "id": "364be7a3",
   "metadata": {},
   "source": [
    "# Question 9"
   ]
  },
  {
   "cell_type": "code",
   "execution_count": 100,
   "id": "723e4886",
   "metadata": {},
   "outputs": [
    {
     "name": "stdout",
     "output_type": "stream",
     "text": [
      "['The', 'quick', 'brown', 'fox', 'jumps', 'over', 'the', 'lazy', 'dog']\n",
      "\n",
      "a.\n",
      "['THE', 'QUICK', 'BROWN', 'FOX', 'JUMPS', 'OVER', 'THE', 'LAZY', 'DOG']\n",
      "\n",
      "b.\n",
      "['the', 'quick', 'brown', 'fox', 'jumps', 'over', 'the', 'lazy', 'dog']\n",
      "\n",
      "c.\n",
      "[3, 5, 5, 3, 5, 4, 3, 4, 3]\n",
      "\n",
      "d.\n",
      "[['THE', 'the', 3], ['QUICK', 'quick', 5], ['BROWN', 'brown', 5], ['FOX', 'fox', 3], ['JUMPS', 'jumps', 5], ['OVER', 'over', 4], ['THE', 'the', 3], ['LAZY', 'lazy', 4], ['DOG', 'dog', 3]]\n",
      "\n",
      "e.\n",
      "['quick', 'brown', 'jumps', 'over', 'lazy']\n"
     ]
    }
   ],
   "source": [
    "words = ['The','quick','brown','fox','jumps','over','the','lazy','dog']\n",
    "print(words)\n",
    "print('')\n",
    "\n",
    "print('a.')\n",
    "upperWords = []\n",
    "for i in range(len(words)):\n",
    "    upperWords.append(words[i].upper())\n",
    "print(upperWords)\n",
    "print('')\n",
    "\n",
    "print('b.')\n",
    "lowerWords = []\n",
    "for i in range(len(words)):\n",
    "    lowerWords.append(words[i].lower())\n",
    "print(lowerWords)\n",
    "print('')\n",
    "\n",
    "print('c.')\n",
    "lenWords = []\n",
    "for i in range(len(words)):\n",
    "    lenWords.append(len(words[i]))\n",
    "print(lenWords)\n",
    "print('')\n",
    "\n",
    "print('d.')\n",
    "listoflistWords = []\n",
    "for i in range(len(words)):\n",
    "    sublistWords = []\n",
    "    sublistWords.append(words[i].upper())\n",
    "    sublistWords.append(words[i].lower())\n",
    "    sublistWords.append(len(words[i]))\n",
    "    listoflistWords.append(sublistWords)   \n",
    "print(listoflistWords)\n",
    "print('')\n",
    "\n",
    "print('e.')\n",
    "fourWords = []\n",
    "for i in range(len(words)):\n",
    "    if len(words[i]) >= 4:\n",
    "        fourWords.append(words[i])\n",
    "print(fourWords)"
   ]
  }
 ],
 "metadata": {
  "kernelspec": {
   "display_name": "Python 3 (ipykernel)",
   "language": "python",
   "name": "python3"
  },
  "language_info": {
   "codemirror_mode": {
    "name": "ipython",
    "version": 3
   },
   "file_extension": ".py",
   "mimetype": "text/x-python",
   "name": "python",
   "nbconvert_exporter": "python",
   "pygments_lexer": "ipython3",
   "version": "3.9.12"
  }
 },
 "nbformat": 4,
 "nbformat_minor": 5
}
